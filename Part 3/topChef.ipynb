{
 "cells": [
  {
   "cell_type": "code",
   "execution_count": 38,
   "metadata": {},
   "outputs": [],
   "source": [
    "#Lets start by importing the necessary libraries\n",
    "import sqlalchemy as sqla\n",
    "import pymysql\n",
    "import pandas as pd\n",
    "import os\n",
    "\n",
    "username = \"user\"  # get this from the instructor\n",
    "password = \"grad5100user\"  # get this from the instructor\n",
    "awsresource = \"database-1.cwvjklnp4wu3.us-east-1.rds.amazonaws.com\"  # get this from the instructor\n",
    "port = 3306"
   ]
  },
  {
   "cell_type": "code",
   "execution_count": 39,
   "metadata": {},
   "outputs": [],
   "source": [
    "#Now lets get the database connection\n",
    "dbname = \"topChef\"\n",
    "dburi = f\"mysql+pymysql://{username}:{password}@{awsresource}:{port}/{dbname}\"\n",
    "engine = sqla.create_engine(dburi)"
   ]
  },
  {
   "cell_type": "code",
   "execution_count": 40,
   "metadata": {},
   "outputs": [],
   "source": [
    "#Now we will create two functions that will help us run SQL commands\n",
    "def run_sql(sql, engine):\n",
    "    \"send sql to database given by engine and return the result\"\n",
    "    with engine.connect() as conn:\n",
    "        result = conn.execute(sqla.text(sql))\n",
    "    return result.all()\n",
    "\n",
    "\n",
    "def df_select(sql, engine):\n",
    "    \"send sql to database given by engine and return the result as a pandas dataframe\"\n",
    "    with engine.connect() as conn:\n",
    "        result = pd.read_sql(sqla.text(sql), con=conn)\n",
    "    print(f\"Retrieved {result.shape[0]} records\")\n",
    "    return result"
   ]
  },
  {
   "cell_type": "code",
   "execution_count": 41,
   "metadata": {},
   "outputs": [],
   "source": [
    "#We will create a new table called chefdetails2 that will exclude the Masters and Canada seasons\n",
    "with engine.connect() as conn:\n",
    "    chefdetails2 = pd.read_sql(\n",
    "        sqla.text(\"SELECT * FROM chefdetails WHERE season NOT LIKE '%Masters%' AND season NOT LIKE '%Canada%';\"), conn\n",
    "    )\n",
    "\n",
    "#We will create a new table called judges2 that will exclude the Masters and Canada seasons\n",
    "with engine.connect() as conn:\n",
    "    judges2 = pd.read_sql(\n",
    "        sqla.text(\"SELECT * FROM judges WHERE season NOT LIKE '%Masters%' AND season NOT LIKE '%Canada%';\"), conn\n",
    "    )"
   ]
  },
  {
   "cell_type": "code",
   "execution_count": 42,
   "metadata": {},
   "outputs": [],
   "source": [
    "#Now we will only keep the columns that we are interested in from the chefdetails2 and judges2 tables\n",
    "chefdetails2 = chefdetails2[['season','seasonNumber','name','placement','gender']]\n",
    "judges2 = judges2[['season','episode','challengeType','guestJudge','competedOnTC']]"
   ]
  },
  {
   "cell_type": "code",
   "execution_count": 43,
   "metadata": {},
   "outputs": [
    {
     "name": "stdout",
     "output_type": "stream",
     "text": [
      "                 season  seasonNumber\n",
      "0         San Francisco             1\n",
      "1           Los Angeles             2\n",
      "2                 Miami             3\n",
      "3               Chicago             4\n",
      "4              New York             5\n",
      "5             Las Vegas             6\n",
      "6                  D.C.             7\n",
      "7   All Stars: New York             8\n",
      "8                 Texas             9\n",
      "9               Seattle            10\n",
      "10          New Orleans            11\n",
      "11               Boston            12\n",
      "12           California            13\n",
      "13           Charleston            14\n",
      "14             Colorado            15\n",
      "15             Kentucky            16\n",
      "16       All-Stars L.A.            17\n",
      "17             Portland            18\n",
      "18              Houston            19\n",
      "19      World All Stars            20\n"
     ]
    }
   ],
   "source": [
    "#Make a table that has two columns, one called season and one called seasonNumber showing the number associated with each season\n",
    "seasonNumber = chefdetails2[['season','seasonNumber']]\n",
    "seasonNumber = seasonNumber.drop_duplicates()\n",
    "seasonNumber = seasonNumber.sort_values(by=['seasonNumber'])\n",
    "seasonNumber = seasonNumber.reset_index(drop=True)\n",
    "print(seasonNumber)"
   ]
  },
  {
   "cell_type": "code",
   "execution_count": 44,
   "metadata": {},
   "outputs": [
    {
     "name": "stdout",
     "output_type": "stream",
     "text": [
      "There are 170 contestants who were male and 152 contestants who were female.\n"
     ]
    }
   ],
   "source": [
    "#Among all chef contestants, how many are male and how many are female?\n",
    "Male, Female = chefdetails2.gender.value_counts()\n",
    "print('There are ' + str(Male) + ' contestants who were male and ' + str(Female) + ' contestants who were female.')"
   ]
  },
  {
   "cell_type": "code",
   "execution_count": 45,
   "metadata": {},
   "outputs": [
    {
     "name": "stdout",
     "output_type": "stream",
     "text": [
      "Among the contestants who won, there were 14 males and 6 females.\n"
     ]
    }
   ],
   "source": [
    "#Among all winners (placement==1) how many are male and how many are female?\n",
    "Male, Female = chefdetails2[chefdetails2['placement']==1].gender.value_counts()\n",
    "print('Among the contestants who won, there were ' + str(Male) + ' males and ' + str(Female) + ' females.')"
   ]
  },
  {
   "cell_type": "code",
   "execution_count": 46,
   "metadata": {},
   "outputs": [
    {
     "name": "stdout",
     "output_type": "stream",
     "text": [
      "Among all sets of top 3 finalists, there were 36 males and 25 females.\n"
     ]
    }
   ],
   "source": [
    "#Among all sets of top 3 finalists (placement=1,2,3) how many are male and how many are female?\n",
    "Male, Female = chefdetails2[chefdetails2['placement']<=3].gender.value_counts()\n",
    "print('Among all sets of top 3 finalists, there were ' + str(Male) + ' males and ' + str(Female) + ' females.')\n"
   ]
  },
  {
   "cell_type": "markdown",
   "metadata": {},
   "source": [
    "Looking at the value counts of males and females through different stages of the competition, we do see some unusual behavior. Specifically, about 41% of top 3 finalists are women (25/(25+36)). However, when we determine the percentage of women who won the competetion, that number drops to only 30% (6/(6+14)). Therefore, women who place in the top 3 are less likely than expected to win the competition. "
   ]
  },
  {
   "cell_type": "code",
   "execution_count": 47,
   "metadata": {},
   "outputs": [
    {
     "name": "stdout",
     "output_type": "stream",
     "text": [
      "                    name               season guestJudge\n",
      "0          Richard Blais  All Stars: New York        Yes\n",
      "1           Melissa King       All-Stars L.A.        Yes\n",
      "2                Mei Lin               Boston        Yes\n",
      "3            Jeremy Ford           California        Yes\n",
      "4      Brooke Williamson           Charleston        Yes\n",
      "5        Stephanie Izard              Chicago        Yes\n",
      "6           Kevin Sbraga                 D.C.        Yes\n",
      "7           Joseph Flamm             Colorado        Yes\n",
      "8             Kah-wai Lo              Houston        Yes\n",
      "9   Kelsey Barnard Clark             Kentucky        Yes\n",
      "10     Michael Voltaggio            Las Vegas        Yes\n",
      "11             Ilan Hall          Los Angeles        Yes\n",
      "12            Hung Huynh                Miami        Yes\n",
      "13         Nicholas Elmi          New Orleans        Yes\n",
      "14       Hosea Rosenberg             New York        Yes\n",
      "15           Gabe Erales             Portland        Yes\n",
      "16       Harold Dieterle        San Francisco        Yes\n",
      "17          Kristen Kish              Seattle        Yes\n",
      "18              Paul Qui                Texas        Yes\n",
      "19            Kah-wai Lo      World All Stars        Yes\n"
     ]
    }
   ],
   "source": [
    "#Now lets make a dataframe that contains the name of each winner, the season they won, and whether or not they were a guest judge\n",
    "firstPlace = chefdetails2[chefdetails2['placement']==1]\n",
    "firstPlace = firstPlace[['name','season']]\n",
    "firstPlace = firstPlace.reset_index(drop=True)\n",
    "if firstPlace['name'][0] in judges2['guestJudge'].values:\n",
    "    firstPlace['guestJudge'] = 'Yes'\n",
    "else:\n",
    "    firstPlace['guestJudge'] = 'No'\n",
    "\n",
    "print(firstPlace)"
   ]
  },
  {
   "cell_type": "code",
   "execution_count": 54,
   "metadata": {},
   "outputs": [
    {
     "name": "stdout",
     "output_type": "stream",
     "text": [
      "                  name\n",
      "0        Mike Isabella\n",
      "1       Antonia Lofaso\n",
      "2        Tiffany Derry\n",
      "3           Dale Talde\n",
      "4     Spike Mendelsohn\n",
      "5     Stephen Asprinio\n",
      "6      Bryan Voltaggio\n",
      "7      Gregory Gourdet\n",
      "8      Karen Akunowicz\n",
      "9        Lee Anne Wong\n",
      "10         Nini Nguyen\n",
      "11        Melissa King\n",
      "12        Amar Santana\n",
      "13      Kwame Onwuachi\n",
      "14      Sheldon Simeon\n",
      "15          Sam Talbot\n",
      "16       Richard Blais\n",
      "17   Adrienne Cheatham\n",
      "18        Carrie Baird\n",
      "19  Josie Smith-Malave\n",
      "20        Nina Compton\n",
      "21      Stefan Richter\n",
      "22        Dawn Burrell\n",
      "23      Shota Nakajima\n",
      "24      Miguel Morales\n",
      "25   Brooke Williamson\n",
      "26          Edward Lee\n",
      "27    Nyesha Arrington\n"
     ]
    }
   ],
   "source": [
    "# Find all contestants who were not first place winners but did serve as a guest judge at some point. Make sure to only list each name once.\n",
    "notfirstPlace = chefdetails2[chefdetails2['placement']!=1]\n",
    "notfirstPlace = notfirstPlace[['name']]\n",
    "guestJudge = pd.DataFrame({'name': []})\n",
    "\n",
    "for name in notfirstPlace['name']:\n",
    "    if name in judges2['guestJudge'].values:\n",
    "        guestJudge = pd.concat([guestJudge, pd.DataFrame({'name': [name]})], ignore_index=True)\n",
    "\n",
    "guestJudge = guestJudge.drop_duplicates()\n",
    "guestJudge = guestJudge.reset_index(drop=True)\n",
    "print(guestJudge)\n",
    "\n"
   ]
  }
 ],
 "metadata": {
  "kernelspec": {
   "display_name": "base",
   "language": "python",
   "name": "python3"
  },
  "language_info": {
   "codemirror_mode": {
    "name": "ipython",
    "version": 3
   },
   "file_extension": ".py",
   "mimetype": "text/x-python",
   "name": "python",
   "nbconvert_exporter": "python",
   "pygments_lexer": "ipython3",
   "version": "3.9.18"
  }
 },
 "nbformat": 4,
 "nbformat_minor": 2
}
