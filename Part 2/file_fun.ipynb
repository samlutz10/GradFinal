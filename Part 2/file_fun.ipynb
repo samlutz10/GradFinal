{
 "cells": [
  {
   "cell_type": "markdown",
   "metadata": {},
   "source": [
    "The file codes.txt consists of 50 lines. Each line is a code of the following form:\n",
    "\n",
    "xxxxx_nnnnn_extension\n",
    "\n",
    "where xxxxx is a 5 digit number, nnnnn is a five digit alphabetic code, and extension is one\n",
    "of ‘py’,‘txt’, or ‘csv’."
   ]
  },
  {
   "cell_type": "code",
   "execution_count": 1,
   "metadata": {},
   "outputs": [],
   "source": [
    "#Lets start by importing some packages\n",
    "import pandas as pd\n",
    "import numpy as np"
   ]
  },
  {
   "cell_type": "code",
   "execution_count": 8,
   "metadata": {},
   "outputs": [],
   "source": [
    "#Lets generate the function that converts the string into the desired format and saves them in the expanded folder\n",
    "def extraction(s):\n",
    "    number = s.split('_')[0]\n",
    "    code = s.split('_')[1]\n",
    "    extension = s.split('_')[2]\n",
    "    \n",
    "    f = open('expanded/' + code + '.' + extension,'w')\n",
    "    f.write(number)\n",
    "    f.close()"
   ]
  },
  {
   "cell_type": "code",
   "execution_count": 16,
   "metadata": {},
   "outputs": [],
   "source": [
    "#Now lets open the file, read each line, and call the function\n",
    "codes = open('codes.txt','r')\n",
    "\n",
    "for line in codes:\n",
    "    line = line.strip()\n",
    "    extraction(line)\n"
   ]
  },
  {
   "cell_type": "code",
   "execution_count": null,
   "metadata": {},
   "outputs": [],
   "source": []
  }
 ],
 "metadata": {
  "kernelspec": {
   "display_name": "base",
   "language": "python",
   "name": "python3"
  },
  "language_info": {
   "codemirror_mode": {
    "name": "ipython",
    "version": 3
   },
   "file_extension": ".py",
   "mimetype": "text/x-python",
   "name": "python",
   "nbconvert_exporter": "python",
   "pygments_lexer": "ipython3",
   "version": "3.9.18"
  }
 },
 "nbformat": 4,
 "nbformat_minor": 2
}
